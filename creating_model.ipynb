{
 "cells": [
  {
   "cell_type": "code",
   "execution_count": 2,
   "id": "7dbbff52",
   "metadata": {
    "scrolled": false
   },
   "outputs": [],
   "source": [
    "import numpy as np\n",
    "import pandas as pd\n",
    "import matplotlib.pyplot as plt\n",
    "from sklearn.model_selection import train_test_split\n",
    "from textblob import TextBlob\n",
    "from glob import glob\n",
    "import pandas as pd\n",
    "import numpy as np\n",
    "import re\n",
    "import time\n",
    "from sklearn.model_selection import GridSearchCV\n",
    "import numpy as np\n",
    "import pandas as pd\n",
    "from itertools import chain\n",
    "import matplotlib.pyplot as plt\n",
    "from sklearn.feature_extraction.text import CountVectorizer\n",
    "from textblob import TextBlob\n",
    "#from gensim.models import word2vec\n",
    "from sklearn.ensemble import  RandomForestClassifier\n",
    "from sklearn.feature_extraction.text import TfidfVectorizer\n",
    "# from sklearn.cluster import KMeans, AgglomerativeClustering\n",
    "import nltk\n",
    "from nltk.corpus import stopwords, wordnet\n",
    "from nltk.tokenize import sent_tokenize, word_tokenize\n",
    "from nltk.stem import PorterStemmer, WordNetLemmatizer\n",
    "#nltk.download('popular', halt_on_error=False)\n",
    "from sklearn.feature_extraction.text import TfidfVectorizer\n",
    "import string\n",
    "from sklearn import metrics\n",
    "#textblob\n",
    "from textblob import TextBlob, Word\n",
    "\n",
    "from nltk.corpus import wordnet\n",
    "# Import Counter\n",
    "from collections import Counter\n",
    "import string\n",
    "from nltk.corpus import words as eng_words\n",
    "from sklearn.metrics import classification_report\n",
    "from sklearn.model_selection import  cross_val_score\n",
    "from sklearn.decomposition import NMF, LatentDirichletAllocation"
   ]
  },
  {
   "cell_type": "code",
   "execution_count": 3,
   "id": "d11d4123",
   "metadata": {},
   "outputs": [
    {
     "name": "stdout",
     "output_type": "stream",
     "text": [
      "[\"Takes a random post from this subreddit when there's no plates.\"]\n"
     ]
    }
   ],
   "source": [
    "import pandas as pd\n",
    "from sklearn.model_selection import train_test_split\n",
    "\n",
    "data = pd.read_csv('T1_train.csv')\n",
    "\n",
    "data.head()\n",
    "\n",
    "y = data[\"label\"]\n",
    "X = data.loc[:,~data.columns.isin([\"label\"])]\n",
    "X_train, X_test, y_train, y_test = train_test_split( X, y, test_size=0.20, random_state=42,stratify = y)\n",
    "\n",
    "\n",
    "print(X_train.iloc[7,:].tolist())"
   ]
  },
  {
   "cell_type": "code",
   "execution_count": 8,
   "id": "0e62157c",
   "metadata": {},
   "outputs": [],
   "source": [
    "def getSubjectivity(text):\n",
    "    pass\n",
    "\n",
    " #Create a function to get the polarity\n",
    "def getPolarity(text):\n",
    "    pass\n",
    "\n",
    "\n",
    "def punkt_frew_nor(x):\n",
    "    pass\n",
    "\n",
    "def upper_word_freq(x):\n",
    "    pass\n",
    "    \n",
    "    \n",
    "    \n",
    "\n",
    "\n",
    "    \n",
    "    \n",
    "\n"
   ]
  },
  {
   "cell_type": "code",
   "execution_count": 5,
   "id": "429b9a91",
   "metadata": {},
   "outputs": [
    {
     "name": "stdout",
     "output_type": "stream",
     "text": [
      "Collecting pytest\n",
      "  Downloading pytest-7.2.0-py3-none-any.whl (316 kB)\n",
      "\u001b[2K     \u001b[90m━━━━━━━━━━━━━━━━━━━━━━━━━━━━━━━━━━━━━━━\u001b[0m \u001b[32m316.8/316.8 kB\u001b[0m \u001b[31m2.6 MB/s\u001b[0m eta \u001b[36m0:00:00\u001b[0ma \u001b[36m0:00:01\u001b[0m\n",
      "\u001b[?25hRequirement already satisfied: tomli>=1.0.0 in /Users/vazgen/anaconda3/envs/torch-gpu/lib/python3.8/site-packages (from pytest) (2.0.1)\n",
      "Collecting exceptiongroup>=1.0.0rc8\n",
      "  Downloading exceptiongroup-1.0.1-py3-none-any.whl (12 kB)\n",
      "Requirement already satisfied: attrs>=19.2.0 in /Users/vazgen/anaconda3/envs/torch-gpu/lib/python3.8/site-packages (from pytest) (22.1.0)\n",
      "Collecting iniconfig\n",
      "  Downloading iniconfig-1.1.1-py2.py3-none-any.whl (5.0 kB)\n",
      "Requirement already satisfied: packaging in /Users/vazgen/anaconda3/envs/torch-gpu/lib/python3.8/site-packages (from pytest) (21.3)\n",
      "Collecting pluggy<2.0,>=0.12\n",
      "  Downloading pluggy-1.0.0-py2.py3-none-any.whl (13 kB)\n",
      "Requirement already satisfied: pyparsing!=3.0.5,>=2.0.2 in /Users/vazgen/anaconda3/envs/torch-gpu/lib/python3.8/site-packages (from packaging->pytest) (3.0.9)\n",
      "Installing collected packages: iniconfig, pluggy, exceptiongroup, pytest\n",
      "Successfully installed exceptiongroup-1.0.1 iniconfig-1.1.1 pluggy-1.0.0 pytest-7.2.0\n"
     ]
    }
   ],
   "source": [
    "!pip install pytest"
   ]
  },
  {
   "cell_type": "code",
   "execution_count": 6,
   "id": "f0ccee77",
   "metadata": {},
   "outputs": [],
   "source": [
    "string_example = \"Takes a random post from this subreddit when there's no plates.\""
   ]
  },
  {
   "cell_type": "code",
   "execution_count": null,
   "id": "a01f0f14",
   "metadata": {},
   "outputs": [],
   "source": []
  }
 ],
 "metadata": {
  "kernelspec": {
   "display_name": "Python 3",
   "language": "python",
   "name": "python3"
  },
  "language_info": {
   "codemirror_mode": {
    "name": "ipython",
    "version": 3
   },
   "file_extension": ".py",
   "mimetype": "text/x-python",
   "name": "python",
   "nbconvert_exporter": "python",
   "pygments_lexer": "ipython3",
   "version": "3.8.13"
  }
 },
 "nbformat": 4,
 "nbformat_minor": 5
}
