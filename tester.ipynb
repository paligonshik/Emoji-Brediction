{
 "cells": [
  {
   "cell_type": "markdown",
   "id": "474f41df",
   "metadata": {},
   "source": [
    "The easiest way to understand TDD is the “Red, Green, Refactor”-system based on the working model proposed by Kent Beck in 2003:\n",
    "\n",
    "<b>Red</b>: write a new test and make sure that it fails. If it passes, the code base already covers the required functionality and does not need additional work.\n",
    "**Green**: write code that passes the test. Most importantly, all previous tests have to pass, too! That is, the new code adds to the existing functionality.\n",
    "**Refactor**: revise code if necessary. For instance, make sure that the structure of the code base is on the correct level of abstraction. Do not add or change any functionality at this stage."
   ]
  },
  {
   "cell_type": "code",
   "execution_count": 2,
   "id": "64506bb9",
   "metadata": {},
   "outputs": [],
   "source": [
    "import pytest"
   ]
  },
  {
   "cell_type": "code",
   "execution_count": 3,
   "id": "be990c53",
   "metadata": {},
   "outputs": [],
   "source": [
    "def getSubjectivity(text):\n",
    "    pass\n",
    "\n",
    " #Create a function to get the polarity\n",
    "def getPolarity(text):\n",
    "    pass\n",
    "\n",
    "\n",
    "def punkt_frew_nor(x):\n",
    "    pass\n",
    "\n",
    "def upper_word_freq(x):\n",
    "    pass\n",
    "    \n",
    "    "
   ]
  },
  {
   "cell_type": "code",
   "execution_count": 35,
   "id": "0b135ece",
   "metadata": {},
   "outputs": [],
   "source": [
    "from textblob import TextBlob\n",
    "\n",
    "def extract_sentiment(text: str):\n",
    "        '''Extract sentiment using textblob. \n",
    "        Polarity is within range [-1, 1]'''\n",
    "\n",
    "        text = TextBlob(text)\n",
    "\n",
    "        return text.sentiment.polarity\n",
    "\n",
    "#sentiment.py\n",
    "def extract_sentiment(text: str):\n",
    "        '''Extract sentiment using textblob. \n",
    "        Polarity is within range [-1, 1]'''\n",
    "\n",
    "        text = TextBlob(text)\n",
    "\n",
    "        return text.sentiment.polarity\n",
    "\n",
    "def test_extract_sentiment():\n",
    "\n",
    "    text = \"I think today will be a great day\"\n",
    "\n",
    "    sentiment = extract_sentiment(text)\n",
    "\n",
    "    assert sentiment > 0"
   ]
  },
  {
   "cell_type": "code",
   "execution_count": null,
   "id": "098601d5",
   "metadata": {},
   "outputs": [],
   "source": []
  }
 ],
 "metadata": {
  "kernelspec": {
   "display_name": "Python 3",
   "language": "python",
   "name": "python3"
  },
  "language_info": {
   "codemirror_mode": {
    "name": "ipython",
    "version": 3
   },
   "file_extension": ".py",
   "mimetype": "text/x-python",
   "name": "python",
   "nbconvert_exporter": "python",
   "pygments_lexer": "ipython3",
   "version": "3.8.13"
  }
 },
 "nbformat": 4,
 "nbformat_minor": 5
}
